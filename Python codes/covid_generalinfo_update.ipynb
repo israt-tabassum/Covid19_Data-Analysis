{
 "cells": [
  {
   "cell_type": "code",
   "execution_count": 1,
   "id": "d0185d8e",
   "metadata": {},
   "outputs": [],
   "source": [
    "import findspark\n",
    "findspark.init()\n",
    "import pyspark\n",
    "from pyspark.sql import SparkSession\n",
    "from pyspark.sql.types import *\n",
    "from pyspark.sql.functions import *\n",
    "\n",
    "#Configuration\n",
    "spark = SparkSession\\\n",
    "    .builder\\\n",
    "    .master('local[2]')\\\n",
    "    .appName('quake_etl')\\\n",
    "    .config('spark.jars.packages','org.mongodb.spark:mongo-spark-connector_2.12:2.4.1')\\\n",
    "    .getOrCreate() \n",
    "#load data\n",
    "covid = spark.read.csv(r\"C:\\Users\\israt\\OneDrive\\Desktop\\DM_Project\\project\\covid_history.csv\", header=True)"
   ]
  },
  {
   "cell_type": "code",
   "execution_count": 2,
   "id": "dab4c871",
   "metadata": {},
   "outputs": [
    {
     "name": "stdout",
     "output_type": "stream",
     "text": [
      "+----------+------+---------------+----------------------+--------+----------------------+--------+----------------+\n",
      "|      date| death|inIcuCumulative|hospitalizedCumulative|negative|onVentilatorCumulative|positive|totalTestResults|\n",
      "+----------+------+---------------+----------------------+--------+----------------------+--------+----------------+\n",
      "|2021-03-07|515151|          45475|                776361|74582825|                  4281|28756489|       363825123|\n",
      "+----------+------+---------------+----------------------+--------+----------------------+--------+----------------+\n",
      "only showing top 1 row\n",
      "\n",
      "root\n",
      " |-- date: string (nullable = true)\n",
      " |-- death: string (nullable = true)\n",
      " |-- inIcuCumulative: string (nullable = true)\n",
      " |-- hospitalizedCumulative: string (nullable = true)\n",
      " |-- negative: string (nullable = true)\n",
      " |-- onVentilatorCumulative: string (nullable = true)\n",
      " |-- positive: string (nullable = true)\n",
      " |-- totalTestResults: string (nullable = true)\n",
      "\n"
     ]
    }
   ],
   "source": [
    "#delete column\n",
    "delete_columns = ['deathIncrease','inIcuCurrently','states','hospitalizedIncrease','hospitalizedCurrently','negativeIncrease','onVentilatorCurrently','positiveIncrease','totalTestResultsIncrease']\n",
    "covid_0 = covid.drop(*delete_columns)\n",
    "covid_0.show(1)\n",
    "covid_0.printSchema()"
   ]
  },
  {
   "cell_type": "code",
   "execution_count": 3,
   "id": "3b7398bd",
   "metadata": {},
   "outputs": [
    {
     "name": "stdout",
     "output_type": "stream",
     "text": [
      "root\n",
      " |-- date: string (nullable = true)\n",
      " |-- death: double (nullable = true)\n",
      " |-- inIcuCumulative: double (nullable = true)\n",
      " |-- hospitalizedCumulative: double (nullable = true)\n",
      " |-- negative: double (nullable = true)\n",
      " |-- onVentilatorCumulative: double (nullable = true)\n",
      " |-- positive: double (nullable = true)\n",
      " |-- totalTestResults: double (nullable = true)\n",
      "\n"
     ]
    }
   ],
   "source": [
    "covid_1 = covid_0.withColumn('inIcuCumulative',covid_0['inIcuCumulative'].cast(DoubleType())).withColumn('negative',covid_0['negative'].cast(DoubleType())).withColumn('onVentilatorCumulative',covid_0['onVentilatorCumulative'].cast(DoubleType())).withColumn('positive',covid_0['positive'].cast(DoubleType())).withColumn('totalTestResults',covid_0['totalTestResults'].cast(DoubleType())).withColumn('death',covid_0['death'].cast(DoubleType())).withColumn('hospitalizedCumulative',covid_0['hospitalizedCumulative'].cast(DoubleType()))\n",
    "\n",
    "covid_1.printSchema()"
   ]
  },
  {
   "cell_type": "code",
   "execution_count": 4,
   "id": "f539c4d2",
   "metadata": {},
   "outputs": [
    {
     "name": "stdout",
     "output_type": "stream",
     "text": [
      "+----------+--------+---------------+----------------------+-----------+----------------------+-----------+----------------+----+\n",
      "|      date|   death|inIcuCumulative|hospitalizedCumulative|   negative|onVentilatorCumulative|   positive|totalTestResults|year|\n",
      "+----------+--------+---------------+----------------------+-----------+----------------------+-----------+----------------+----+\n",
      "|2021-03-07|515151.0|        45475.0|              776361.0|7.4582825E7|                4281.0|2.8756489E7|    3.63825123E8|2021|\n",
      "+----------+--------+---------------+----------------------+-----------+----------------------+-----------+----------------+----+\n",
      "only showing top 1 row\n",
      "\n"
     ]
    }
   ],
   "source": [
    "covid_2=covid_1.withColumn('year', year(to_timestamp('date','yyyy-MM-dd')))\n",
    "covid_2.show(1)"
   ]
  },
  {
   "cell_type": "code",
   "execution_count": 6,
   "id": "13e93b31",
   "metadata": {},
   "outputs": [],
   "source": [
    "# connect with mongodb by creating database\n",
    "\n",
    "covid_2.write.format('mongo')\\\n",
    "    .mode('overwrite')\\\n",
    "    .option('spark.mongodb.output.uri','mongodb://127.0.0.1/covid.covid_2').save()"
   ]
  },
  {
   "cell_type": "code",
   "execution_count": null,
   "id": "ca35ad5b",
   "metadata": {},
   "outputs": [],
   "source": []
  }
 ],
 "metadata": {
  "kernelspec": {
   "display_name": "Python 3 (ipykernel)",
   "language": "python",
   "name": "python3"
  },
  "language_info": {
   "codemirror_mode": {
    "name": "ipython",
    "version": 3
   },
   "file_extension": ".py",
   "mimetype": "text/x-python",
   "name": "python",
   "nbconvert_exporter": "python",
   "pygments_lexer": "ipython3",
   "version": "3.9.12"
  }
 },
 "nbformat": 4,
 "nbformat_minor": 5
}
