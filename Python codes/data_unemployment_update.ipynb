{
 "cells": [
  {
   "cell_type": "code",
   "execution_count": 1,
   "id": "bc8f6e2e",
   "metadata": {},
   "outputs": [
    {
     "name": "stdout",
     "output_type": "stream",
     "text": [
      "+--------------------+------------+--------------------+-----------------+----+----+----+----+----+----+----+----+----+----+----+----+----+----+----+----+----+----+----+----+----+----+----+----+-----------+-----------+-----------+----+----+----+----+-----------+----+----+-----------+----+----+-----------+----+----+-----------+-----------+----+----+-----------+----+----+-----------+----------+-----------+-----------+-----------+-----------+----+-----------+----+----+-----------+----+----+-----------+-----------+----+----+----+----+----+----+----+----+\n",
      "|        Country Name|Country Code|      Indicator Name|   Indicator Code|1960|1961|1962|1963|1964|1965|1966|1967|1968|1969|1970|1971|1972|1973|1974|1975|1976|1977|1978|1979|1980|1981|1982|1983|       1984|       1985|       1986|1987|1988|1989|1990|       1991|1992|1993|       1994|1995|1996|       1997|1998|1999|       2000|       2001|2002|2003|       2004|2005|2006|       2007|      2008|       2009|       2010|       2011|       2012|2013|       2014|2015|2016|       2017|2018|2019|       2020|       2021|_c66|_c67|_c68|_c69|_c70|_c71|_c72|_c73|\n",
      "+--------------------+------------+--------------------+-----------------+----+----+----+----+----+----+----+----+----+----+----+----+----+----+----+----+----+----+----+----+----+----+----+----+-----------+-----------+-----------+----+----+----+----+-----------+----+----+-----------+----+----+-----------+----+----+-----------+-----------+----+----+-----------+----+----+-----------+----------+-----------+-----------+-----------+-----------+----+-----------+----+----+-----------+----+----+-----------+-----------+----+----+----+----+----+----+----+----+\n",
      "|               Aruba|         ABW|Unemployment, tot...|SL.UEM.TOTL.NE.ZS|null|null|null|null|null|null|null|null|null|null|null|null|null|null|null|null|null|null|null|null|null|null|null|null|       null|       null|       null|null|null|null|null|6.079999924|null|null|6.449999809|null|null|7.449999809|null|null|6.920000076|6.900000095|null|null|       null|null|null|5.710000038|      null|       null|10.60000038|8.899999619|       null|null|       null|null|null|       null|null|null|       null|       null|null|null|null|null|null|null|null|null|\n",
      "|Africa Eastern an...|         AFE|Unemployment, tot...|SL.UEM.TOTL.NE.ZS|null|null|null|null|null|null|null|null|null|null|null|null|null|null|null|null|null|null|null|null|null|null|null|null|       null|       null|       null|null|null|null|null|       null|null|null|       null|null|null|       null|null|null|       null|       null|null|null|       null|null|null|       null|      null|       null|       null|       null|       null|null|       null|null|null|       null|null|null|       null|       null|null|null|null|null|null|null|null|null|\n",
      "|         Afghanistan|         AFG|Unemployment, tot...|SL.UEM.TOTL.NE.ZS|null|null|null|null|null|null|null|null|null|null|null|null|null|null|null|null|null|null|null|null|null|null|null|null|       null|       null|       null|null|null|null|null|       null|null|null|       null|null|null|       null|null|null|       null|       null|null|null|       null|null|null|       null|2.49000001|       null|       null|       null|1.690000057|null|7.909999847|null|null|11.18000031|null|null|11.71000004|5.579999924|null|null|null|null|null|null|null|null|\n",
      "|Africa Western an...|         AFW|Unemployment, tot...|SL.UEM.TOTL.NE.ZS|null|null|null|null|null|null|null|null|null|null|null|null|null|null|null|null|null|null|null|null|null|null|null|null|       null|       null|       null|null|null|null|null|       null|null|null|       null|null|null|       null|null|null|       null|       null|null|null|       null|null|null|       null|      null|       null|       null|       null|       null|null|4.335681282|null|null|6.983556938|null|null|       null|       null|null|null|null|null|null|null|null|null|\n",
      "|              Angola|         AGO|Unemployment, tot...|SL.UEM.TOTL.NE.ZS|null|null|null|null|null|null|null|null|null|null|null|null|null|null|null|null|null|null|null|null|null|null|null|null|14.19999981|14.89999962|18.89999962|null|null|null|null|       null|null|null|       null|null|null|       null|null|null|       null|       null|null|null|23.63999939|null|null|       null|      null|3.779999971|9.430000305|7.360000134|       null|null|9.579999924|null|null|       null|null|null|       null|       null|null|null|null|null|null|null|null|null|\n",
      "+--------------------+------------+--------------------+-----------------+----+----+----+----+----+----+----+----+----+----+----+----+----+----+----+----+----+----+----+----+----+----+----+----+-----------+-----------+-----------+----+----+----+----+-----------+----+----+-----------+----+----+-----------+----+----+-----------+-----------+----+----+-----------+----+----+-----------+----------+-----------+-----------+-----------+-----------+----+-----------+----+----+-----------+----+----+-----------+-----------+----+----+----+----+----+----+----+----+\n",
      "only showing top 5 rows\n",
      "\n"
     ]
    }
   ],
   "source": [
    "import findspark\n",
    "findspark.init()\n",
    "import pyspark\n",
    "from pyspark.sql import SparkSession\n",
    "from pyspark.sql.types import *\n",
    "from pyspark.sql.functions import *\n",
    "\n",
    "#Configuration\n",
    "spark = SparkSession\\\n",
    "    .builder\\\n",
    "    .master('local[2]')\\\n",
    "    .appName('quake_etl')\\\n",
    "    .config('spark.jars.packages','org.mongodb.spark:mongo-spark-connector_2.12:2.4.1')\\\n",
    "    .getOrCreate() \n",
    "#load data\n",
    "unemp = spark.read.csv(r\"C:\\Users\\israt\\OneDrive\\Desktop\\DM_Project\\project\\unemployment.csv\", header=True)\n",
    "unemp.show(5)"
   ]
  },
  {
   "cell_type": "code",
   "execution_count": 2,
   "id": "1f7a0f86",
   "metadata": {},
   "outputs": [
    {
     "name": "stdout",
     "output_type": "stream",
     "text": [
      "+--------------------+----+----+-----------+-----------+\n",
      "|        Country Name|2018|2019|       2020|       2021|\n",
      "+--------------------+----+----+-----------+-----------+\n",
      "|               Aruba|null|null|       null|       null|\n",
      "|Africa Eastern an...|null|null|       null|       null|\n",
      "|         Afghanistan|null|null|11.71000004|5.579999924|\n",
      "|Africa Western an...|null|null|       null|       null|\n",
      "|              Angola|null|null|       null|       null|\n",
      "+--------------------+----+----+-----------+-----------+\n",
      "only showing top 5 rows\n",
      "\n",
      "root\n",
      " |-- Country Name: string (nullable = true)\n",
      " |-- 2018: string (nullable = true)\n",
      " |-- 2019: string (nullable = true)\n",
      " |-- 2020: string (nullable = true)\n",
      " |-- 2021: string (nullable = true)\n",
      "\n"
     ]
    }
   ],
   "source": [
    "#delete column\n",
    "delete_columns = ['Country Code','Indicator Name','Indicator Code','1960','1961','1962','1963','1964','1965','1966','1967','1968','1969','1970','1971','1972','1973','1974','1975','1976','1977','1978','1979','1980','1981','1982','1983',       '1984',       '1985'       ,'1986','1987','1988','1989','1990',       '1991','1992','1993'   ,    '1994','1995','1996',       '1997','1998','1999',       '2000'     ,  '2001','2002','2003',       '2004','2005','2006'  ,    '2007'  ,    '2008',       '2009',       '2010'   ,    '2011'       ,'2012','2013' ,      '2014','2015','2016'       ,'2017', '_c66','_c67','_c68','_c69','_c70','_c71','_c72','_c73']\n",
    "unempl = unemp.drop(*delete_columns)\n",
    "unempl.show(5)\n",
    "unempl.printSchema()"
   ]
  },
  {
   "cell_type": "code",
   "execution_count": 3,
   "id": "cb3e3a84",
   "metadata": {},
   "outputs": [
    {
     "name": "stdout",
     "output_type": "stream",
     "text": [
      "root\n",
      " |-- Country Name: string (nullable = true)\n",
      " |-- 2018: double (nullable = true)\n",
      " |-- 2019: double (nullable = true)\n",
      " |-- 2020: double (nullable = true)\n",
      " |-- 2021: double (nullable = true)\n",
      "\n",
      "+--------------------+----+----+-----------+-----------+\n",
      "|        Country Name|2018|2019|       2020|       2021|\n",
      "+--------------------+----+----+-----------+-----------+\n",
      "|               Aruba|null|null|       null|       null|\n",
      "|Africa Eastern an...|null|null|       null|       null|\n",
      "|         Afghanistan|null|null|11.71000004|5.579999924|\n",
      "|Africa Western an...|null|null|       null|       null|\n",
      "|              Angola|null|null|       null|       null|\n",
      "+--------------------+----+----+-----------+-----------+\n",
      "only showing top 5 rows\n",
      "\n"
     ]
    }
   ],
   "source": [
    "#convert string to double\n",
    "unemploy = unempl.withColumn('2018',unempl['2018'].cast(DoubleType())).withColumn('2019',unempl['2019'].cast(DoubleType())).withColumn('2020',unempl['2020'].cast(DoubleType())).withColumn('2021',unempl['2021'].cast(DoubleType()))\n",
    "unemploy.printSchema()\n",
    "unemploy.show(5)"
   ]
  },
  {
   "cell_type": "code",
   "execution_count": 4,
   "id": "0da81a7c",
   "metadata": {},
   "outputs": [
    {
     "name": "stdout",
     "output_type": "stream",
     "text": [
      "+--------------------+----+----+-----------+-----------+\n",
      "|        Country Name|2018|2019|       2020|       2021|\n",
      "+--------------------+----+----+-----------+-----------+\n",
      "|               Aruba| 0.0| 0.0|        0.0|        0.0|\n",
      "|Africa Eastern an...| 0.0| 0.0|        0.0|        0.0|\n",
      "|         Afghanistan| 0.0| 0.0|11.71000004|5.579999924|\n",
      "|Africa Western an...| 0.0| 0.0|        0.0|        0.0|\n",
      "|              Angola| 0.0| 0.0|        0.0|        0.0|\n",
      "+--------------------+----+----+-----------+-----------+\n",
      "only showing top 5 rows\n",
      "\n"
     ]
    }
   ],
   "source": [
    "#convert the all null values of the table into 0.0\n",
    "unemployment=unemploy.na.fill(0)\n",
    "unemployment.show(5)"
   ]
  },
  {
   "cell_type": "code",
   "execution_count": 5,
   "id": "db8d6131",
   "metadata": {},
   "outputs": [],
   "source": [
    "# connect with mongodb by creating database\n",
    "\n",
    "unemp.write.format('mongo')\\\n",
    "    .mode('overwrite')\\\n",
    "    .option('spark.mongodb.output.uri','mongodb://127.0.0.1/Unemployment.unemp').save()\n",
    "\n",
    "unempl.write.format('mongo')\\\n",
    "    .mode('overwrite')\\\n",
    "    .option('spark.mongodb.output.uri','mongodb://127.0.0.1/Unemployment.unempl').save()\n",
    "\n",
    "\n",
    "unemploy.write.format('mongo')\\\n",
    "    .mode('overwrite')\\\n",
    "    .option('spark.mongodb.output.uri','mongodb://127.0.0.1/Unemployment.unemploy').save()\n",
    "\n",
    "\n",
    "unemployment.write.format('mongo')\\\n",
    "    .mode('overwrite')\\\n",
    "    .option('spark.mongodb.output.uri','mongodb://127.0.0.1/Unemployment.unemployment').save()"
   ]
  },
  {
   "cell_type": "code",
   "execution_count": null,
   "id": "89e92dbb",
   "metadata": {},
   "outputs": [],
   "source": []
  }
 ],
 "metadata": {
  "kernelspec": {
   "display_name": "Python 3 (ipykernel)",
   "language": "python",
   "name": "python3"
  },
  "language_info": {
   "codemirror_mode": {
    "name": "ipython",
    "version": 3
   },
   "file_extension": ".py",
   "mimetype": "text/x-python",
   "name": "python",
   "nbconvert_exporter": "python",
   "pygments_lexer": "ipython3",
   "version": "3.9.12"
  }
 },
 "nbformat": 4,
 "nbformat_minor": 5
}
