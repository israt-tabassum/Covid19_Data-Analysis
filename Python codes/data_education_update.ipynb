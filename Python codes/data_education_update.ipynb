{
 "cells": [
  {
   "cell_type": "code",
   "execution_count": 1,
   "id": "74f758f4",
   "metadata": {},
   "outputs": [],
   "source": [
    "import findspark\n",
    "findspark.init()"
   ]
  },
  {
   "cell_type": "code",
   "execution_count": 2,
   "id": "8311153f",
   "metadata": {},
   "outputs": [],
   "source": [
    "import pyspark\n",
    "from pyspark.sql import SparkSession\n",
    "from pyspark.sql.types import *\n",
    "from pyspark.sql.functions import *\n",
    "\n",
    "#Configuration\n",
    "spark = SparkSession\\\n",
    "    .builder\\\n",
    "    .master('local[2]')\\\n",
    "    .appName('quake_etl')\\\n",
    "    .config('spark.jars.packages','org.mongodb.spark:mongo-spark-connector_2.12:2.4.1')\\\n",
    "    .getOrCreate() "
   ]
  },
  {
   "cell_type": "code",
   "execution_count": 3,
   "id": "a039b12a",
   "metadata": {},
   "outputs": [],
   "source": [
    "#load data\n",
    "edu = spark.read.csv(r\"C:\\Users\\israt\\OneDrive\\Desktop\\DM_Project\\project\\education.csv\", header=True)"
   ]
  },
  {
   "cell_type": "code",
   "execution_count": 5,
   "id": "1caaca30",
   "metadata": {},
   "outputs": [
    {
     "name": "stdout",
     "output_type": "stream",
     "text": [
      "+----------+-----------+----------+\n",
      "|      Date|    Country|    Status|\n",
      "+----------+-----------+----------+\n",
      "|17/02/2020|      Aruba|Fully open|\n",
      "|17/02/2020|Afghanistan|Fully open|\n",
      "|17/02/2020|     Angola|Fully open|\n",
      "|17/02/2020|   Anguilla|Fully open|\n",
      "|17/02/2020|    Albania|Fully open|\n",
      "+----------+-----------+----------+\n",
      "only showing top 5 rows\n",
      "\n"
     ]
    }
   ],
   "source": [
    "#delete column\n",
    "delete_columns = ['ISO','Note']\n",
    "education = edu.drop(*delete_columns)\n",
    "education.show(5)"
   ]
  },
  {
   "cell_type": "code",
   "execution_count": 6,
   "id": "e381a438",
   "metadata": {},
   "outputs": [
    {
     "name": "stdout",
     "output_type": "stream",
     "text": [
      "root\n",
      " |-- Date: string (nullable = true)\n",
      " |-- Country: string (nullable = true)\n",
      " |-- Status: string (nullable = true)\n",
      "\n"
     ]
    }
   ],
   "source": [
    "#displaying variables types\n",
    "education.printSchema()"
   ]
  },
  {
   "cell_type": "code",
   "execution_count": 7,
   "id": "96a18ddf",
   "metadata": {},
   "outputs": [
    {
     "name": "stdout",
     "output_type": "stream",
     "text": [
      "root\n",
      " |-- Date: string (nullable = true)\n",
      " |-- Country: string (nullable = true)\n",
      " |-- Status: string (nullable = true)\n",
      "\n",
      "+----------+-----------+----------+----+\n",
      "|      Date|    Country|    Status|Year|\n",
      "+----------+-----------+----------+----+\n",
      "|17/02/2020|      Aruba|Fully open|2020|\n",
      "|17/02/2020|Afghanistan|Fully open|2020|\n",
      "|17/02/2020|     Angola|Fully open|2020|\n",
      "|17/02/2020|   Anguilla|Fully open|2020|\n",
      "|17/02/2020|    Albania|Fully open|2020|\n",
      "+----------+-----------+----------+----+\n",
      "only showing top 5 rows\n",
      "\n"
     ]
    }
   ],
   "source": [
    "#insert column: year\n",
    "education.printSchema()\n",
    "education = education.withColumn('Year', year(to_timestamp('Date','dd/MM/yyyy')))\n",
    "education.show(5)"
   ]
  },
  {
   "cell_type": "code",
   "execution_count": 8,
   "id": "e4f0c8f0",
   "metadata": {},
   "outputs": [
    {
     "name": "stdout",
     "output_type": "stream",
     "text": [
      "root\n",
      " |-- Date: double (nullable = true)\n",
      " |-- Country: string (nullable = true)\n",
      " |-- Status: string (nullable = true)\n",
      " |-- Year: integer (nullable = true)\n",
      "\n"
     ]
    }
   ],
   "source": [
    "#convert string to double\n",
    "education = education.withColumn('Date',education['Date'].cast(DoubleType()))\n",
    "education.printSchema()"
   ]
  },
  {
   "cell_type": "code",
   "execution_count": 9,
   "id": "f8073583",
   "metadata": {},
   "outputs": [
    {
     "name": "stdout",
     "output_type": "stream",
     "text": [
      "+--------------------+------------+\n",
      "|              Status|total Status|\n",
      "+--------------------+------------+\n",
      "|      Partially open|        4858|\n",
      "|      Academic break|        5571|\n",
      "|          Fully open|       12897|\n",
      "|Closed due to COV...|        2294|\n",
      "+--------------------+------------+\n",
      "\n"
     ]
    }
   ],
   "source": [
    "#count the numbers of each status\n",
    "status_count = education.groupBy('Status').count().withColumnRenamed('count','total Status')\n",
    "\n",
    "status_count.show(100)"
   ]
  },
  {
   "cell_type": "code",
   "execution_count": 10,
   "id": "47291319",
   "metadata": {},
   "outputs": [
    {
     "name": "stdout",
     "output_type": "stream",
     "text": [
      "+----+--------------------+----------+----+\n",
      "|Date|             Country|    Status|Year|\n",
      "+----+--------------------+----------+----+\n",
      "|null|               Aruba|Fully open|2020|\n",
      "|null|         Afghanistan|Fully open|2020|\n",
      "|null|              Angola|Fully open|2020|\n",
      "|null|            Anguilla|Fully open|2020|\n",
      "|null|             Albania|Fully open|2020|\n",
      "|null|             Andorra|Fully open|2020|\n",
      "|null|United Arab Emirates|Fully open|2020|\n",
      "|null|           Argentina|Fully open|2020|\n",
      "|null|             Armenia|Fully open|2020|\n",
      "|null| Antigua and Barbuda|Fully open|2020|\n",
      "+----+--------------------+----------+----+\n",
      "only showing top 10 rows\n",
      "\n"
     ]
    }
   ],
   "source": [
    "#filtering the status with Fully open status\n",
    "status_Fully_open=education.filter(education.Status == \"Fully open\")\n",
    "\n",
    "status_Fully_open.show(10)"
   ]
  },
  {
   "cell_type": "code",
   "execution_count": 11,
   "id": "9a43e3f9",
   "metadata": {},
   "outputs": [
    {
     "name": "stdout",
     "output_type": "stream",
     "text": [
      "+----+-----------------+--------------+----+\n",
      "|Date|          Country|        Status|Year|\n",
      "+----+-----------------+--------------+----+\n",
      "|null|          Armenia|Academic break|2020|\n",
      "|null|Brunei Darussalam|Academic break|2020|\n",
      "|null|           Canada|Academic break|2020|\n",
      "|null|         Ethiopia|Academic break|2020|\n",
      "|null|          Georgia|Academic break|2020|\n",
      "|null|         Suriname|Academic break|2020|\n",
      "|null|          Tunisia|Academic break|2020|\n",
      "|null|         Anguilla|Academic break|2020|\n",
      "|null|          Albania|Academic break|2020|\n",
      "|null|            Benin|Academic break|2020|\n",
      "+----+-----------------+--------------+----+\n",
      "only showing top 10 rows\n",
      "\n",
      "+----+--------------------+--------------+----+\n",
      "|Date|             Country|        Status|Year|\n",
      "+----+--------------------+--------------+----+\n",
      "|null|               China|Partially open|2020|\n",
      "|null|              Monaco|Partially open|2020|\n",
      "|null|              Brazil|Partially open|2020|\n",
      "|null|              Bhutan|Partially open|2020|\n",
      "|null|             Germany|Partially open|2020|\n",
      "|null|United Kingdom of...|Partially open|2020|\n",
      "|null|           Indonesia|Partially open|2020|\n",
      "|null|               India|Partially open|2020|\n",
      "|null|             Iceland|Partially open|2020|\n",
      "|null|  Russian Federation|Partially open|2020|\n",
      "+----+--------------------+--------------+----+\n",
      "only showing top 10 rows\n",
      "\n",
      "+----+--------------------+--------------------+----+\n",
      "|Date|             Country|              Status|Year|\n",
      "+----+--------------------+--------------------+----+\n",
      "|null|            Mongolia|Closed due to COV...|2020|\n",
      "|null|               Aruba|Closed due to COV...|2020|\n",
      "|null|         Afghanistan|Closed due to COV...|2020|\n",
      "|null|            Anguilla|Closed due to COV...|2020|\n",
      "|null|             Albania|Closed due to COV...|2020|\n",
      "|null|             Andorra|Closed due to COV...|2020|\n",
      "|null|United Arab Emirates|Closed due to COV...|2020|\n",
      "|null|           Argentina|Closed due to COV...|2020|\n",
      "|null| Antigua and Barbuda|Closed due to COV...|2020|\n",
      "|null|             Austria|Closed due to COV...|2020|\n",
      "+----+--------------------+--------------------+----+\n",
      "only showing top 10 rows\n",
      "\n"
     ]
    }
   ],
   "source": [
    "#filtering the status\n",
    "status_Academic_break=education.filter(education.Status == \"Academic break\")\n",
    "status_Partially_open=education.filter(education.Status == \"Partially open\")\n",
    "status_Closed_due_to_COVID =education.filter(education.Status == \"Closed due to COVID-19\")\n",
    "\n",
    "\n",
    "status_Academic_break.show(10)\n",
    "status_Partially_open.show(10)\n",
    "status_Closed_due_to_COVID.show(10)"
   ]
  },
  {
   "cell_type": "code",
   "execution_count": 12,
   "id": "d521d9cd",
   "metadata": {},
   "outputs": [
    {
     "name": "stdout",
     "output_type": "stream",
     "text": [
      "+----+----------+\n",
      "|Year|total year|\n",
      "+----+----------+\n",
      "|2022|     12390|\n",
      "|2020|      2310|\n",
      "|2021|     10920|\n",
      "+----+----------+\n",
      "\n"
     ]
    }
   ],
   "source": [
    "#count total year of each year\n",
    "year_count = education.groupBy('Year').count().withColumnRenamed('count','total year')\n",
    "\n",
    "year_count.show(100)"
   ]
  },
  {
   "cell_type": "code",
   "execution_count": 13,
   "id": "fa3d2401",
   "metadata": {},
   "outputs": [
    {
     "name": "stdout",
     "output_type": "stream",
     "text": [
      "+----+--------------------+--------------+----+\n",
      "|Date|             Country|        Status|Year|\n",
      "+----+--------------------+--------------+----+\n",
      "|null|               Aruba|Academic break|2022|\n",
      "|null|         Afghanistan|Academic break|2022|\n",
      "|null|              Angola|Academic break|2022|\n",
      "|null|            Anguilla|Academic break|2022|\n",
      "|null|             Albania|Academic break|2022|\n",
      "|null|             Andorra|Academic break|2022|\n",
      "|null|United Arab Emirates|Academic break|2022|\n",
      "|null|           Argentina|Academic break|2022|\n",
      "|null|             Armenia|Academic break|2022|\n",
      "|null| Antigua and Barbuda|Academic break|2022|\n",
      "+----+--------------------+--------------+----+\n",
      "only showing top 10 rows\n",
      "\n",
      "+----+--------------------+--------------+----+\n",
      "|Date|             Country|        Status|Year|\n",
      "+----+--------------------+--------------+----+\n",
      "|null|               Aruba|Academic break|2021|\n",
      "|null|         Afghanistan|Academic break|2021|\n",
      "|null|              Angola|Partially open|2021|\n",
      "|null|            Anguilla|    Fully open|2021|\n",
      "|null|             Albania|Academic break|2021|\n",
      "|null|             Andorra|    Fully open|2021|\n",
      "|null|United Arab Emirates|Partially open|2021|\n",
      "|null|           Argentina|Academic break|2021|\n",
      "|null|             Armenia|Academic break|2021|\n",
      "|null| Antigua and Barbuda|Partially open|2021|\n",
      "+----+--------------------+--------------+----+\n",
      "only showing top 10 rows\n",
      "\n",
      "+----+--------------------+----------+----+\n",
      "|Date|             Country|    Status|Year|\n",
      "+----+--------------------+----------+----+\n",
      "|null|               Aruba|Fully open|2020|\n",
      "|null|         Afghanistan|Fully open|2020|\n",
      "|null|              Angola|Fully open|2020|\n",
      "|null|            Anguilla|Fully open|2020|\n",
      "|null|             Albania|Fully open|2020|\n",
      "|null|             Andorra|Fully open|2020|\n",
      "|null|United Arab Emirates|Fully open|2020|\n",
      "|null|           Argentina|Fully open|2020|\n",
      "|null|             Armenia|Fully open|2020|\n",
      "|null| Antigua and Barbuda|Fully open|2020|\n",
      "+----+--------------------+----------+----+\n",
      "only showing top 10 rows\n",
      "\n"
     ]
    }
   ],
   "source": [
    "#filtering the year\n",
    "year_2022 =education.filter(education.Year == 2022)\n",
    "year_2021 =education.filter(education.Year == 2021)\n",
    "year_2020 =education.filter(education.Year == 2020)\n",
    "\n",
    "year_2022.show(10)\n",
    "year_2021.show(10)\n",
    "year_2020.show(10)"
   ]
  },
  {
   "cell_type": "code",
   "execution_count": 14,
   "id": "4126011c",
   "metadata": {},
   "outputs": [],
   "source": [
    "# connect with mongodb by creating database\n",
    "\n",
    "edu.write.format('mongo')\\\n",
    "    .mode('overwrite')\\\n",
    "    .option('spark.mongodb.output.uri','mongodb://127.0.0.1/education_in_covid.edu').save()\n",
    "\n",
    "education.write.format('mongo')\\\n",
    "    .mode('overwrite')\\\n",
    "    .option('spark.mongodb.output.uri','mongodb://127.0.0.1/education_in_covid.education').save()\n",
    "\n",
    "status_count.write.format('mongo')\\\n",
    "    .mode('overwrite')\\\n",
    "    .option('spark.mongodb.output.uri','mongodb://127.0.0.1/education_in_covid.status_count').save()\n",
    "\n",
    "status_Fully_open.write.format('mongo')\\\n",
    "    .mode('overwrite')\\\n",
    "    .option('spark.mongodb.output.uri','mongodb://127.0.0.1/education_in_covid.status_Fully_open').save()\n",
    "\n",
    "status_Academic_break.write.format('mongo')\\\n",
    "    .mode('overwrite')\\\n",
    "    .option('spark.mongodb.output.uri','mongodb://127.0.0.1/education_in_covid.status_Academic_break').save()\n",
    "\n",
    "status_Partially_open.write.format('mongo')\\\n",
    "    .mode('overwrite')\\\n",
    "    .option('spark.mongodb.output.uri','mongodb://127.0.0.1/education_in_covid.status_Partially_open').save()\n",
    "\n",
    "status_Closed_due_to_COVID.write.format('mongo')\\\n",
    "    .mode('overwrite')\\\n",
    "    .option('spark.mongodb.output.uri','mongodb://127.0.0.1/education_in_covid.status_Closed_due_to_COVID').save()\n",
    "\n",
    "year_2022.write.format('mongo')\\\n",
    "    .mode('overwrite')\\\n",
    "    .option('spark.mongodb.output.uri','mongodb://127.0.0.1/education_in_covid.year_2022').save()\n",
    "\n",
    "year_2021.write.format('mongo')\\\n",
    "    .mode('overwrite')\\\n",
    "    .option('spark.mongodb.output.uri','mongodb://127.0.0.1/education_in_covid.year_2021').save()\n",
    "\n",
    "year_2020.write.format('mongo')\\\n",
    "    .mode('overwrite')\\\n",
    "    .option('spark.mongodb.output.uri','mongodb://127.0.0.1/education_in_covid.year_2020').save()\n",
    "\n",
    "\n"
   ]
  },
  {
   "cell_type": "code",
   "execution_count": null,
   "id": "fd1e62a1",
   "metadata": {},
   "outputs": [],
   "source": []
  }
 ],
 "metadata": {
  "kernelspec": {
   "display_name": "Python 3 (ipykernel)",
   "language": "python",
   "name": "python3"
  },
  "language_info": {
   "codemirror_mode": {
    "name": "ipython",
    "version": 3
   },
   "file_extension": ".py",
   "mimetype": "text/x-python",
   "name": "python",
   "nbconvert_exporter": "python",
   "pygments_lexer": "ipython3",
   "version": "3.9.12"
  }
 },
 "nbformat": 4,
 "nbformat_minor": 5
}
